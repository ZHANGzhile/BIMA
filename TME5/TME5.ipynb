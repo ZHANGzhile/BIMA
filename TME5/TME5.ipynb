{
 "cells": [
  {
   "cell_type": "markdown",
   "metadata": {},
   "source": [
    "# Practical work 5: edge detection\n",
    "\n",
    "The goal of this practial work is to experiment various edge detectors. Attention is given to the following points:\n",
    "1. comparison between the first and second order detectors\n",
    "2. study of the impact of smoothing\n",
    "3. removing non maxima answers of the detectors\n",
    "4. evaluation in term of robustness and localization"
   ]
  },
  {
   "cell_type": "code",
   "execution_count": 1,
   "metadata": {},
   "outputs": [],
   "source": [
    "# Useful modules\n",
    "import numpy as np\n",
    "from PIL import Image\n",
    "from scipy.signal import convolve2d\n",
    "import matplotlib.pyplot as plt\n",
    "\n",
    "# Useful functions for this work\n",
    "def orientation(Ix, Iy, Ig):\n",
    "    \"\"\" Array[n,m]**3 -> Array[n,m]\n",
    "        Returns an image of orientation.\n",
    "    \"\"\"\n",
    "    n, m = Ix.shape\n",
    "    x = np.arange(4)*np.pi/4\n",
    "    ori = np.stack((np.cos(x), np.sin(x)), axis=1)\n",
    "    O = np.zeros(Ix.shape)\n",
    "    for i in range(n):\n",
    "        for j in range(m):\n",
    "            if Ig[i, j] > 0:\n",
    "                v = np.array([Ix[i, j], -Iy[i, j]])/Ig[i, j]\n",
    "                if Iy[i, j] > 0: v = -v\n",
    "                prod = np.matmul(ori, v)\n",
    "                maxi = prod.max()\n",
    "                imax = np.nonzero(prod == maxi)\n",
    "                O[i, j] = imax[0][0]+1\n",
    "    return O\n",
    "\n",
    "def gaussianKernel(sigma):\n",
    "    \"\"\" double -> Array\n",
    "        return a gaussian kernel of standard deviation sigma\n",
    "    \"\"\"\n",
    "    n2 = int(np.ceil(3*sigma))\n",
    "    x,y = np.meshgrid(np.arange(-n2,n2+1),np.arange(-n2,n2+1))\n",
    "    kern =  np.exp(-(x**2+y**2)/(2*sigma*sigma))\n",
    "    return kern/kern.sum()\n",
    "\n",
    "\n",
    "def imshow(I, title=None, size=500, axis=False):\n",
    "    \"\"\" display an image, with title, size, and axis \"\"\"\n",
    "    plt.figure(figsize=(size//80, size//80))\n",
    "    plt.gray()\n",
    "    plt.imshow(I)\n",
    "    if not axis: plt.axis('off')\n",
    "    if title: plt.title(title)\n",
    "    plt.show()\n",
    "\n",
    "def imshow_hot(I, title=None, size=500, axis=False):\n",
    "    \"\"\" display an image, with title, size, and axis \"\"\"\n",
    "    plt.figure(figsize=(size//80, size//80))\n",
    "    plt.hot()\n",
    "    plt.imshow(I)\n",
    "    if not axis: plt.axis('off')\n",
    "    if title: plt.title(title)\n",
    "    plt.show()\n",
    "\n",
    "def niceDisplay14(affichages,titres=None):\n",
    "    \"\"\" list[Array]*list[str] -> NoneType\n",
    "        display from 1 up to 4 images or vectors with optionnal titles\n",
    "        2D arrays are displayed as image with imshow()\n",
    "        1D arrays are displayed as curve with plot()\n",
    "    \"\"\"\n",
    "    if not type(affichages) == type([]):\n",
    "        affichages = [affichages]\n",
    "        \n",
    "    if titres is None:\n",
    "        titres = ['',]*len(affichages)\n",
    "        \n",
    "    if not type(titres) == type([]):\n",
    "        titres = [titres]\n",
    "    \n",
    "    nb_affichages = len(affichages)\n",
    "    if nb_affichages >4 or nb_affichages < 1 :\n",
    "        raise ValueError('niceDisplay_14 : affichage should be a list of length 1 up to 4')\n",
    "        \n",
    "    if nb_affichages != len(titres):\n",
    "        raise ValueError('niceDisplay_14 : titres must have same length than affichage')\n",
    "        \n",
    "    courbes = False\n",
    "    for i in range(0,nb_affichages):\n",
    "        s = plt.subplot(101+10*nb_affichages+i)\n",
    "        s.set_title(titres[i])\n",
    "        if len(affichages[i].shape)==2 and affichages[i].shape[0] > 1 and affichages[i].shape[1] > 1:\n",
    "            # on affiche une image\n",
    "            s.imshow(affichages[i], cmap=\"gray\",interpolation='nearest', aspect='equal')\n",
    "        else :\n",
    "            # il s'agit d'une seule ligne, à afficher comme une courbe\n",
    "            plt.plot(affichages[i])\n",
    "            courbes=True\n",
    "\n",
    "    agrandissement_h = nb_affichages\n",
    "    agrandissement_v = nb_affichages*2 if courbes else nb_affichages\n",
    "    params = plt.gcf()\n",
    "    plSize = params.get_size_inches()\n",
    "    params.set_size_inches( (plSize[0]*agrandissement_v, plSize[1]*agrandissement_h) )\n",
    "    plt.show()\n"
   ]
  },
  {
   "cell_type": "markdown",
   "metadata": {},
   "source": [
    "## Exercise 1: comparison between first and second order detectors\n",
    "The function `conv2()`, written in TME4, is a little bit slow. We propose to use `convolve2d()` available in module `scipy.signal`. We use this fonction with parameter `mode` set to `'same'` (see `help(convolve2d)`)."
   ]
  },
  {
   "cell_type": "markdown",
   "metadata": {},
   "source": [
    "1. **Sobel filters** are a couple of filters approximating, by finite difference, the gradient of an image, and defined by: $$S_x = \\begin{pmatrix} 1&0&-1 \\\\ 2&0&-2 \\\\ 1&0&-1 \\end{pmatrix}\\qquad S_y = \\begin{pmatrix} 1&2&1 \\\\ 0&0&0 \\\\ -1&-2&-1 \\end{pmatrix} $$ Write a function `SobelDetector(I,s)` that computes gradient of $I$, the norm of the gradient, and returns the norm threshold with a value $s$. "
   ]
  },
  {
   "cell_type": "code",
   "execution_count": 5,
   "metadata": {},
   "outputs": [],
   "source": [
    "def SobelDetector(I, s):\n",
    "    \"\"\" Array*double -> Array \"\"\"\n"
   ]
  },
  {
   "cell_type": "markdown",
   "metadata": {},
   "source": [
    "2. **Laplacian filter** approximates, by finite difference, the seconde derivatives of an image. It is defined by: $$L=\\begin{pmatrix} 0&1&0\\\\1&-4&1\\\\0&1&0 \\end{pmatrix}$$ Write a function `LaplacianDetector(I,s)` that computes the Laplacian of $I$ and returns the zero crossings of the Laplacian as an image. Zero crossing occurs if the sign of Laplacian changes in a neighborrow. To identify a zero crossing for a pixel $(i,j)$:\n",
    " - consider a $3\\times3$ neighborrow $I_L$ and compute the minimal and maximal values over $I_L$,\n",
    " - zero crossing occurs if $\\max(I_L)>0$, $\\min(I_L)<0$, and $\\max(I_L)-\\min(I_L)>s$"
   ]
  },
  {
   "cell_type": "code",
   "execution_count": null,
   "metadata": {},
   "outputs": [],
   "source": [
    "def LaplacianDetector(I, s):\n",
    "    \"\"\" Array*double -> Array \"\"\"\n"
   ]
  },
  {
   "cell_type": "markdown",
   "metadata": {},
   "source": [
    "3. **Comparison between first and second order detectors**. Experiment the two detectors on `img/lena.png`. Find the thresholds for both detectors (for example, 70 and 70) that allow to detect approximately the same edges."
   ]
  },
  {
   "cell_type": "code",
   "execution_count": null,
   "metadata": {},
   "outputs": [],
   "source": []
  },
  {
   "cell_type": "markdown",
   "metadata": {},
   "source": [
    "## Exercise 2: non maximum suppression\n",
    "\n",
    "This exercise addresses the problem of a unique localization of edges from a map determined by first order filters. This can be obtained by applying a non maximum suppression technique: the norm of an edge gradient should be maxima in the direction of the gradient. To this end, we provide the function `orientation(Ix,Iy,Ig)` that determines from spatial derivatives $I_x$, $I_y$ (using your favorite filters) and the gradient norm $I_g$ the orientation of the gradient for each pixels. Possible orientations are $0$, $\\frac\\pi4$, $\\frac\\pi2$ and $\\frac{3\\pi}4$ respectively coded by values 1, 2, 3 and 4 (0 stands for null gradient). Orientation of gradient are determined in the direct orthonormal basis."
   ]
  },
  {
   "cell_type": "markdown",
   "metadata": {},
   "source": [
    "1. Display the output of function `orientation()` applied on image `img/tools.png`. Verify values according to the different local orientation configurations (use `imshow_hot()` in interactive mode in the nootebook to see pixels value pointed by the mouse screen)."
   ]
  },
  {
   "cell_type": "code",
   "execution_count": null,
   "metadata": {},
   "outputs": [],
   "source": [
    "%matplotlib notebook\n",
    "#### your answer below\n"
   ]
  },
  {
   "cell_type": "markdown",
   "metadata": {},
   "source": [
    "Explain the different values given to a pixel by `orientation()`:"
   ]
  },
  {
   "cell_type": "markdown",
   "metadata": {},
   "source": [
    "Your answer: ..."
   ]
  },
  {
   "cell_type": "markdown",
   "metadata": {},
   "source": [
    "2. Write a function `G=nms(Ig, Ior)` getting the gradient norm of an image, and the gradient orientation and returning an image of norm gradient for pixels being a local maxima of gradient norm in the direction of gradient or 0 otherwise. In other words, pixel `(i,j)` is a local maxima if `G[i,j] > 0` and `G[i,j]` gives the gradient norm value at this pixel."
   ]
  },
  {
   "cell_type": "code",
   "execution_count": null,
   "metadata": {},
   "outputs": [],
   "source": [
    "def nms(Ig, Ior):\n",
    "    \"\"\" Array**2 -> Array \"\"\"\n"
   ]
  },
  {
   "cell_type": "markdown",
   "metadata": {},
   "source": [
    "3. Experiments function `nms()` on images `img/tools.png` and `img/lena.png` after apply or not a gaussian filter (use the function `gaussianKernel()` given in the previous TME).\n"
   ]
  },
  {
   "cell_type": "code",
   "execution_count": null,
   "metadata": {},
   "outputs": [],
   "source": [
    "%matplotlib inline\n",
    "### your answer below\n",
    "\n"
   ]
  },
  {
   "cell_type": "markdown",
   "metadata": {},
   "source": [
    "4. Conclude on the effect of smoothing (value of $\\sigma$) on the edge detection process and on the size of edges."
   ]
  },
  {
   "cell_type": "code",
   "execution_count": null,
   "metadata": {},
   "outputs": [],
   "source": []
  },
  {
   "cell_type": "markdown",
   "metadata": {},
   "source": [
    "## Exercise 3:  effects of smoothing in edge detection\n",
    "Edge detectors are high pass filters and then amplify noise. To avoid this issue, we apply low pass filter, such as Gaussian filter, as preprocess. In this exercice, we use the image `img/lena.png`.\n",
    "\n",
    "1. Smooth image `lena` by convolving with $G_\\sigma$, the gaussian kernel of standard deviation $\\sigma = 2$."
   ]
  },
  {
   "cell_type": "code",
   "execution_count": null,
   "metadata": {},
   "outputs": [],
   "source": []
  },
  {
   "cell_type": "markdown",
   "metadata": {},
   "source": [
    "2. On the smoothed image apply Sobel and Laplacian edge detectors. Find threshold values (around 10 for Laplacian and 200 for Sobel) in order the two detectors approximately detect the same contours. After smoothing, what are the main difference between the two detectors."
   ]
  },
  {
   "cell_type": "code",
   "execution_count": null,
   "metadata": {},
   "outputs": [],
   "source": []
  },
  {
   "cell_type": "markdown",
   "metadata": {},
   "source": [
    "3. Let vary $\\sigma\\in[\\sigma_1, \\sigma_2]$ ($\\sigma_1$ and $\\sigma_2$ to be determined) and analyze results obtained for both detectors. What are the effects of smoothing on the noise ? on the localisation of contours ?"
   ]
  },
  {
   "cell_type": "code",
   "execution_count": null,
   "metadata": {},
   "outputs": [],
   "source": []
  },
  {
   "cell_type": "markdown",
   "metadata": {},
   "source": [
    "4. Replace the gaussian filter by a constrast enhancer filter of impulse response $\\begin{pmatrix} 0&-1&0\\\\-1&5&-1\\\\0&-1&0\\end{pmatrix}$ (other choices are possible). Discuss the results."
   ]
  },
  {
   "cell_type": "code",
   "execution_count": null,
   "metadata": {},
   "outputs": [],
   "source": []
  },
  {
   "cell_type": "markdown",
   "metadata": {},
   "source": [
    "5. Apply a multiresolution decomposition up to a size $8\\times8$. Apply the two detectors for each resolution. Discuss the results."
   ]
  },
  {
   "cell_type": "code",
   "execution_count": null,
   "metadata": {},
   "outputs": [],
   "source": []
  }
 ],
 "metadata": {
  "kernelspec": {
   "display_name": "Python 3 (ipykernel)",
   "language": "python",
   "name": "python3"
  },
  "language_info": {
   "codemirror_mode": {
    "name": "ipython",
    "version": 3
   },
   "file_extension": ".py",
   "mimetype": "text/x-python",
   "name": "python",
   "nbconvert_exporter": "python",
   "pygments_lexer": "ipython3",
   "version": "3.9.13"
  }
 },
 "nbformat": 4,
 "nbformat_minor": 2
}
