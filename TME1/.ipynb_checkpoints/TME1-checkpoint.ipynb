{
 "cells": [
  {
   "cell_type": "markdown",
   "metadata": {},
   "source": [
    "# Practical work 1: introduction and image enhancement \n",
    "\n",
    "- Quick start for Python (10 minutes!) : https://www.stavros.io/tutorials/python/\n",
    "- Quick start for Numpy : https://numpy.org/devdocs/user/quickstart.html#\n",
    "- For Matlab users: Numpy is very similar but with some important difference, see http://mathesaurus.sourceforge.net/matlab-numpy.html.\n",
    "- Keep in mind that in Python, exception of variable of scalar type, all is reference and affectation is not a copy. \n",
    "\n",
    "\n",
    "## Short introduction to image processing with Python\n",
    "\n",
    "Help: use the function `help()` to get information on a Python objet. \n",
    "\n",
    "Images are stored as arrays that is the default type of the `numpy` module. Defaut type of array elements is `float64` according to the IEEE754 norm. Special float values are defined: infinity (`inf`) and undefined (`nan`, *not a number*), and some numerical constants, such as $\\pi$.\n",
    " \n"
   ]
  },
  {
   "cell_type": "code",
   "execution_count": 1,
   "metadata": {},
   "outputs": [
    {
     "name": "stdout",
     "output_type": "stream",
     "text": [
      "inf nan 3.141592653589793\n",
      "1.0 10000000000.0 -0.0012\n"
     ]
    }
   ],
   "source": [
    "# import numpy\n",
    "import numpy as np\n",
    "\n",
    "# predefined constants\n",
    "print(np.inf,np.nan,np.pi)\n",
    "\n",
    "# some values\n",
    "print( 1., 1e10, -1.2e-3)\n"
   ]
  },
  {
   "cell_type": "markdown",
   "metadata": {},
   "source": [
    "### Creating an array: several ways.\n",
    "\n",
    "1. From a list of values (formally any Python iterable object). Elements of an array have the same **type**, determined by Numpy:"
   ]
  },
  {
   "cell_type": "code",
   "execution_count": 4,
   "metadata": {},
   "outputs": [
    {
     "name": "stdout",
     "output_type": "stream",
     "text": [
      "V is of type int64\n",
      "M is of type float64\n"
     ]
    }
   ],
   "source": [
    "V = np.array([1,2,3])\n",
    "M = np.array([[1,2,3],[4,5,6.]])\n",
    "print (\"V is of type\",V.dtype)\n",
    "print (\"M is of type\",M.dtype)"
   ]
  },
  {
   "cell_type": "markdown",
   "metadata": {},
   "source": [
    "2. Without values: Numpy has constructors such as `empty()`, `zeros()`, `ones()`... Shape should be given (see below). Important: `empty()` does not initialize array elements."
   ]
  },
  {
   "cell_type": "code",
   "execution_count": 5,
   "metadata": {},
   "outputs": [
    {
     "name": "stdout",
     "output_type": "stream",
     "text": [
      "[[0. 0. 0. 0.]\n",
      " [0. 0. 0. 0.]\n",
      " [0. 0. 0. 0.]]\n",
      "[[0. 0. 0.]\n",
      " [0. 0. 0.]\n",
      " [0. 0. 0.]\n",
      " [0. 0. 0.]]\n"
     ]
    }
   ],
   "source": [
    "I = np.zeros((3,4))\n",
    "print(I)\n",
    "J = np.empty((4,3))\n",
    "print(J)"
   ]
  },
  {
   "cell_type": "markdown",
   "metadata": {},
   "source": [
    "3. From a sequence, prefer `arange()` from numpy to `range()` from python."
   ]
  },
  {
   "cell_type": "code",
   "execution_count": 6,
   "metadata": {},
   "outputs": [
    {
     "name": "stdout",
     "output_type": "stream",
     "text": [
      "[0 1 2 3 4 5 6 7 8 9]\n",
      "[0 2 4 6 8]\n",
      "[ 9.   8.5  8.   7.5  7.   6.5  6.   5.5  5.   4.5  4.   3.5  3.   2.5\n",
      "  2.   1.5  1.   0.5  0.  -0.5]\n"
     ]
    }
   ],
   "source": [
    "print(np.arange(10))\n",
    "print(np.arange(0,10,2))\n",
    "print(np.arange(9,-1,-.5))"
   ]
  },
  {
   "cell_type": "markdown",
   "metadata": {},
   "source": [
    "### Shape of an array\n",
    "\n",
    "Shape decribes the number of elements for each dimension. A vector is of dimension 1, a matrix is of dimension 2. Superior dimensions are possible. Shape is not size that is the number of elements of an array. Type of shape is always a tuple of integers. With previous example: "
   ]
  },
  {
   "cell_type": "code",
   "execution_count": 7,
   "metadata": {},
   "outputs": [
    {
     "name": "stdout",
     "output_type": "stream",
     "text": [
      "(3, 4) 12\n",
      "(4, 3) 12\n",
      "(3,) 3\n"
     ]
    }
   ],
   "source": [
    "print(I.shape, I.size)\n",
    "print(J.shape, J.size)\n",
    "print(V.shape, V.size)"
   ]
  },
  {
   "cell_type": "markdown",
   "metadata": {},
   "source": [
    "An important function/method is `reshape()` to change the shape of an array. Typical usage of `reshape()` is to transform a vector into a matrix or reciprocally. "
   ]
  },
  {
   "cell_type": "code",
   "execution_count": 9,
   "metadata": {},
   "outputs": [
    {
     "name": "stdout",
     "output_type": "stream",
     "text": [
      "[[ 0  1  2  3]\n",
      " [ 4  5  6  7]\n",
      " [ 8  9 10 11]]\n",
      "[ 0  1  2  3  4  5  6  7  8  9 10 11]\n",
      "[[[ 0  1  2]\n",
      "  [ 3  4  5]]\n",
      "\n",
      " [[ 6  7  8]\n",
      "  [ 9 10 11]]]\n"
     ]
    }
   ],
   "source": [
    "K = np.arange(12).reshape((3,4))\n",
    "print(K)\n",
    "print(np.reshape(K,(12)))\n",
    "print(K.reshape((2,2,3)))"
   ]
  },
  {
   "cell_type": "markdown",
   "metadata": {},
   "source": [
    "### Elements of an array\n",
    "\n",
    "Access element by indices: two syntaxe are possible, the first given in the example is prefered. Negative index is possible with the same meanning of Python list."
   ]
  },
  {
   "cell_type": "code",
   "execution_count": 10,
   "metadata": {},
   "outputs": [
    {
     "name": "stdout",
     "output_type": "stream",
     "text": [
      "6\n",
      "0\n",
      "8\n"
     ]
    }
   ],
   "source": [
    "I = np.arange(12).reshape((3,4))\n",
    "print(I[1,2])\n",
    "print(I[0][0])\n",
    "print(I[-1,0])"
   ]
  },
  {
   "cell_type": "markdown",
   "metadata": {},
   "source": [
    "Access by group of indices using the operator `:` allows to extract subarray. General syntaxe is `start:end:step` and it is very powerfull:"
   ]
  },
  {
   "cell_type": "code",
   "execution_count": 11,
   "metadata": {},
   "outputs": [
    {
     "name": "stdout",
     "output_type": "stream",
     "text": [
      "extract the first line\n",
      "[0 1 2 3]\n",
      "[0 1 2 3]\n",
      "[0 1 2 3]\n",
      "[0 1 2 3]\n",
      "extract center of the array\n",
      "[[ 5  6]\n",
      " [ 9 10]]\n",
      "extract elements with even indices\n",
      "[[ 0  2]\n",
      " [ 8 10]]\n",
      "print the horizontal mirror of an array\n",
      "[[ 3  2  1  0]\n",
      " [ 7  6  5  4]\n",
      " [11 10  9  8]]\n"
     ]
    }
   ],
   "source": [
    "print('extract the first line')\n",
    "print(I[0,:])\n",
    "print(I[0,0:])\n",
    "print(I[0,::])\n",
    "print(I[0,::1])\n",
    "\n",
    "print('extract center of the array')\n",
    "print(I[1:3,1:3])\n",
    "\n",
    "print('extract elements with even indices')\n",
    "print(I[::2,::2])\n",
    "\n",
    "print('print the horizontal mirror of an array')\n",
    "print(I[:,::-1])\n"
   ]
  },
  {
   "cell_type": "markdown",
   "metadata": {},
   "source": [
    "### Array arithmetic\n",
    "\n",
    "Operators and functions can be applied to arrays. Mostly, operations are element-wise (i.e. applied element by element). The consequence is arrays should have the same shape. One operand can also be scalar in most of time."
   ]
  },
  {
   "cell_type": "code",
   "execution_count": 12,
   "metadata": {},
   "outputs": [
    {
     "name": "stdout",
     "output_type": "stream",
     "text": [
      "[[ 1.00000000e+00  8.66025404e-01  5.00000000e-01  6.12323400e-17]\n",
      " [-5.00000000e-01 -8.66025404e-01 -1.00000000e+00 -8.66025404e-01]\n",
      " [-5.00000000e-01 -1.83697020e-16  5.00000000e-01  8.66025404e-01]]\n",
      "[[1.00000000e+00 7.50000000e-01 2.50000000e-01 3.74939946e-33]\n",
      " [2.50000000e-01 7.50000000e-01 1.00000000e+00 7.50000000e-01]\n",
      " [2.50000000e-01 3.37445951e-32 2.50000000e-01 7.50000000e-01]]\n",
      "[[ True  True  True  True]\n",
      " [False False False False]\n",
      " [False False  True  True]]\n"
     ]
    }
   ],
   "source": [
    "A = np.arange(12).reshape((3,4))\n",
    "B = 2 * A + 1\n",
    "C = A + B\n",
    "D = np.cos(2*np.pi*A/12)\n",
    "\n",
    "print (D)\n",
    "print (D**2)\n",
    "print (D>0)"
   ]
  },
  {
   "cell_type": "markdown",
   "metadata": {},
   "source": [
    "Array may be viewed as matrix, we can make some linear algebraic manipulation. For example, `np.matmul()` is the matrix multiplication. It can be used to build matrix from vector. An example, using the transpose operator `T`. "
   ]
  },
  {
   "cell_type": "code",
   "execution_count": 13,
   "metadata": {},
   "outputs": [
    {
     "name": "stdout",
     "output_type": "stream",
     "text": [
      "A 5*5 matrix:\n",
      "[[ 1  2  3  4  5]\n",
      " [ 2  4  6  8 10]\n",
      " [ 3  6  9 12 15]\n",
      " [ 4  8 12 16 20]\n",
      " [ 5 10 15 20 25]]\n",
      "A dot product, but result is a matrix:\n",
      "[[55]]\n",
      "55\n",
      "dot() is prefered with vectors:\n",
      "55\n",
      "55\n"
     ]
    }
   ],
   "source": [
    "L = np.arange(1,6).reshape((1,5))\n",
    "# transpose of L. Warning: C remains a reference to L\n",
    "C = L.T\n",
    "# This could be better if your want to touch L \n",
    "C = L.T.copy()\n",
    "\n",
    "print(\"A 5*5 matrix:\")\n",
    "print(np.matmul(C,L))\n",
    "\n",
    "print(\"A dot product, but result is a matrix:\")\n",
    "print(np.matmul(L,C))\n",
    "print(np.matmul(L,C)[0,0])\n",
    "\n",
    "print(\"dot() is prefered with vectors:\")\n",
    "V = np.arange(1,6)\n",
    "print(V.dot(V))\n",
    "print(np.dot(V,V))"
   ]
  },
  {
   "cell_type": "markdown",
   "metadata": {},
   "source": [
    "### Images\n",
    "\n",
    "We make use of PIL module (https://pillow.readthedocs.io/en/stable/reference/Image.html) to load and write an image and easily converted to Numpy array. Be careful: array type depends on image."
   ]
  },
  {
   "cell_type": "code",
   "execution_count": 22,
   "metadata": {},
   "outputs": [],
   "source": [
    "from PIL import Image\n",
    "\n",
    "# reading an image and convert to array\n",
    "myimage = np.array(Image.open('img/moon.png'))\n",
    "\n",
    "# write an image (alternative format) from an array\n",
    "Image.fromarray(myimage).save('image.jpg')"
   ]
  },
  {
   "cell_type": "markdown",
   "metadata": {},
   "source": [
    "Array can be displayed as an image using Matplotlib module. Here a short example:"
   ]
  },
  {
   "cell_type": "code",
   "execution_count": 23,
   "metadata": {},
   "outputs": [
    {
     "data": {
      "image/png": "[encoded data removed]",
      "text/plain": [
       "<Figure size 432x288 with 1 Axes>"
      ]
     },
     "metadata": {
      "needs_background": "light"
     },
     "output_type": "display_data"
    },
    {
     "data": {
      "image/png": "[encoded data removed]",
      "text/plain": [
       "<Figure size 360x360 with 1 Axes>"
      ]
     },
     "metadata": {
      "needs_background": "light"
     },
     "output_type": "display_data"
    }
   ],
   "source": [
    "import matplotlib.pyplot as plt\n",
    "\n",
    "# minimal example:\n",
    "plt.imshow(myimage)\n",
    "plt.show()\n",
    "\n",
    "# with more controls:\n",
    "w,h=400,400\n",
    "plt.figure(figsize=(w/80,h/80))  # optional, to control the size of figure (unit: pixel)\n",
    "plt.gray() # optional call to display image using a gray colormap\n",
    "plt.title('This is an image') # optional: add a title\n",
    "plt.axis('off') # optional: remove axes\n",
    "plt.imshow(myimage)\n",
    "plt.show()\n"
   ]
  },
  {
   "cell_type": "markdown",
   "metadata": {},
   "source": [
    "See also:\n",
    "- https://matplotlib.org/3.1.1/tutorials/introductory/images.html\n",
    "- https://matplotlib.org/gallery/images_contours_and_fields/image_demo.html#sphx-glr-gallery-images-contours-and-fields-image-demo-py). "
   ]
  },
  {
   "cell_type": "markdown",
   "metadata": {},
   "source": [
    "## Exercice 1\n",
    "In this exercice, we work with image `img/moon.png`. If possible give two solutions : one with loops (for, while, ...) and one without loops. \n",
    "\n",
    "1. Write and test a function `openImage()` getting an image filename as argument and returning the array of pixel values."
   ]
  },
  {
   "cell_type": "code",
   "execution_count": 24,
   "metadata": {},
   "outputs": [],
   "source": [
    "from PIL import Image\n",
    "import numpy as np\n",
    "\n",
    "def openImage(fname):\n",
    "    \"\"\" str -> Array \n",
    "    (notation above means the function gets a string argument and returns an Array object)\n",
    "    \"\"\"\n",
    "    return np.array(Image.open(fname))"
   ]
  },
  {
   "cell_type": "code",
   "execution_count": 26,
   "metadata": {},
   "outputs": [
    {
     "name": "stdout",
     "output_type": "stream",
     "text": [
      "[[ 1  3  7 ...  8 16  8]\n",
      " [ 3  7  3 ...  4 11 12]\n",
      " [ 6  4  6 ...  7  2  3]\n",
      " ...\n",
      " [ 4  8  8 ...  6  4  8]\n",
      " [ 4  8  8 ...  4  6  6]\n",
      " [ 2  3  3 ...  6  9  9]]\n"
     ]
    }
   ],
   "source": [
    "#Test\n",
    "myimage = openImage('img/moon.png')\n",
    "print(myimage)"
   ]
  },
  {
   "cell_type": "markdown",
   "metadata": {},
   "source": [
    "2. Write and test a function `countPixels()` getting an array and an integer `k` as arguments and returning the number of pixels having the value `k`."
   ]
  },
  {
   "cell_type": "code",
   "execution_count": null,
   "metadata": {},
   "outputs": [],
   "source": [
    "def countPixels(I,k):\n",
    "    \"\"\" Array*int -> int\"\"\""
   ]
  },
  {
   "cell_type": "markdown",
   "metadata": {},
   "source": [
    "3. Write and test a function `replacePixels()` getting an array and two intergers and replacing pixels having `k1`value to `k2` value and returning the new array. Be aware to not modify `I`."
   ]
  },
  {
   "cell_type": "code",
   "execution_count": null,
   "metadata": {},
   "outputs": [],
   "source": [
    "def replacePixels(I,k1,k2):\n",
    "    \"\"\" Array*int*int -> Array \"\"\""
   ]
  },
  {
   "cell_type": "markdown",
   "metadata": {},
   "source": [
    "4. Write and test a function `normalizeImage()` getting an array and two integers `k1` and `k2` and returning an array with elements normalized to the interval $[k_1,k_2]$. "
   ]
  },
  {
   "cell_type": "code",
   "execution_count": null,
   "metadata": {},
   "outputs": [],
   "source": [
    "def normalizeImage(I,k1,k2):\n",
    "    \"\"\" Array*int*int -> Array \"\"\""
   ]
  },
  {
   "cell_type": "markdown",
   "metadata": {},
   "source": [
    "5. Write and test a function `inverteImage()` getting an array and returning and arry having inverted pixel values (i.e. the transform $k \\mapsto 255-k$"
   ]
  },
  {
   "cell_type": "code",
   "execution_count": null,
   "metadata": {},
   "outputs": [],
   "source": [
    "def inverteImage(I):\n",
    "    \"\"\" Array -> Array \"\"\""
   ]
  },
  {
   "cell_type": "markdown",
   "metadata": {},
   "source": [
    "6. Write and test a function `computeHistogram()` getting an array and returning its histogram. Type of histogram can be an array or a list. It is forbidden to use an histogram method from a Python module. Is it possible to compute the histogram without explicitely visiting array pixels? "
   ]
  },
  {
   "cell_type": "code",
   "execution_count": null,
   "metadata": {},
   "outputs": [],
   "source": [
    "def computeHistogram(I):\n",
    "    \"\"\" Array -> list[int] \"\"\"\n",
    "    \n",
    "# use comments to answer to a verbal question"
   ]
  },
  {
   "cell_type": "markdown",
   "metadata": {},
   "source": [
    "7. Write and test a function `thresholdImage()` getting an array `I` and an integer `s` and returning an array having elements set to 0 if corresponding element of `I` is lower than `s` or 255 otherwise."
   ]
  },
  {
   "cell_type": "code",
   "execution_count": null,
   "metadata": {},
   "outputs": [],
   "source": [
    "def thresholdImage(I,s):\n",
    "    \"\"\" Array*int -> Array \"\"\""
   ]
  },
  {
   "cell_type": "markdown",
   "metadata": {},
   "source": [
    "8. Using previous functions, give a series of instructions to read then to display an image, plot the histogram (one can use `plot()` or `bar()` from `matplotlib.pyplot` module), inverse the image and display it, plot its histogram."
   ]
  },
  {
   "cell_type": "code",
   "execution_count": null,
   "metadata": {},
   "outputs": [],
   "source": [
    "import matplotlib.pyplot as plt\n",
    "\n",
    "## your code start below"
   ]
  },
  {
   "cell_type": "markdown",
   "metadata": {},
   "source": [
    "9. Give a series of instructions to read and display an image, plot the histogram, normalize the image to the interval $[10,50]$, compute the new histogram, display the image and the histogram. Remark: `imshow()` normalizes image. To avoid this and see the effect of the normalization, use `imshow()` with parameters `vmin=0,vmax=255`. Comment the results."
   ]
  },
  {
   "cell_type": "code",
   "execution_count": null,
   "metadata": {},
   "outputs": [],
   "source": []
  },
  {
   "cell_type": "markdown",
   "metadata": {},
   "source": [
    "10. Same question than 9. remplacing the normalization by a thresholding with parameter $s=127$."
   ]
  },
  {
   "cell_type": "code",
   "execution_count": null,
   "metadata": {},
   "outputs": [],
   "source": []
  },
  {
   "attachments": {
    "synthese.png": {
     "image/png": "[encoded data removed]"
    }
   },
   "cell_type": "markdown",
   "metadata": {},
   "source": [
    "## Exercice 2 - generate images\n",
    "\n",
    "1. Create the array `I` 4 by 4 corresponding to the following image: <div> <img src=\"attachment:synthese.png\" width=\"150\"/> </div> Black pixels have value 0, white pixels value 255, and grey pixels value 127. Display the image using `imshow()` and plot the histogram."
   ]
  },
  {
   "cell_type": "code",
   "execution_count": null,
   "metadata": {},
   "outputs": [],
   "source": []
  },
  {
   "cell_type": "markdown",
   "metadata": {},
   "source": [
    "2. We want to generate a matrix having random values. Functions `rand()` and `randn()` from  `numpy.matlib` module generate array of given shape with random values following respectively a uniform distribution on $[0,1[$ and a normal distribution. Create an array of shape 512 by 512 having **integer** elements following an uniform distribution in the set $\\{0,1,\\cdots,255\\}$ . We also want to create an array following a gaussian distribution with a mean of 128 and a standard deviation of 16 and with **integer** values.  Display the images and their histogramms. Discuss the results."
   ]
  },
  {
   "cell_type": "code",
   "execution_count": null,
   "metadata": {},
   "outputs": [],
   "source": [
    "import numpy.matlib\n",
    "\n"
   ]
  },
  {
   "cell_type": "markdown",
   "metadata": {},
   "source": [
    "## Exercice 3: image manipulation\n",
    "In this exercice, we work with image `img/pout.png`. "
   ]
  },
  {
   "cell_type": "markdown",
   "metadata": {},
   "source": [
    "1. Read and display this image"
   ]
  },
  {
   "cell_type": "code",
   "execution_count": null,
   "metadata": {},
   "outputs": [],
   "source": []
  },
  {
   "cell_type": "markdown",
   "metadata": {},
   "source": [
    "2. Examine the histogram. Determine the extrema of the image. What can you say about the quality of this image?"
   ]
  },
  {
   "cell_type": "code",
   "execution_count": null,
   "metadata": {},
   "outputs": [],
   "source": []
  },
  {
   "cell_type": "markdown",
   "metadata": {},
   "source": [
    "3. Using functions from Exercice 1, write the function `histogramEqualization()` getting one image, its histogram,  applying an histogram equalization and returning the new image. Test this function on `pout.png` and discuss the result."
   ]
  },
  {
   "cell_type": "code",
   "execution_count": null,
   "metadata": {},
   "outputs": [],
   "source": [
    "def histogramEqualization(I,h):\n",
    "    \"\"\" Array * (list[int] -> Array \"\"\"\n"
   ]
  }
 ],
 "metadata": {
  "kernelspec": {
   "display_name": "Python 3 (ipykernel)",
   "language": "python",
   "name": "python3"
  },
  "language_info": {
   "codemirror_mode": {
    "name": "ipython",
    "version": 3
   },
   "file_extension": ".py",
   "mimetype": "text/x-python",
   "name": "python",
   "nbconvert_exporter": "python",
   "pygments_lexer": "ipython3",
   "version": "3.9.12"
  }
 },
 "nbformat": 4,
 "nbformat_minor": 2
}
