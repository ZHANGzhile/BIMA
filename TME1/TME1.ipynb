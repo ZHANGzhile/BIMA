{
 "cells": [
  {
   "cell_type": "markdown",
   "metadata": {},
   "source": [
    "## <right>Binôme \n",
    "* Saliou Barry\n",
    "* Zhile Zhang\n",
    "</right>\n",
    "***"
   ]
  },
  {
   "cell_type": "markdown",
   "metadata": {},
   "source": [
    "# Practical work 1: introduction and image enhancement \n",
    "\n",
    "- Quick start for Python (10 minutes!) : https://www.stavros.io/tutorials/python/\n",
    "- Quick start for Numpy : https://numpy.org/devdocs/user/quickstart.html#\n",
    "- For Matlab users: Numpy is very similar but with some important difference, see http://mathesaurus.sourceforge.net/matlab-numpy.html.\n",
    "- Keep in mind that in Python, exception of variable of scalar type, all is reference and affectation is not a copy. \n",
    "\n",
    "\n",
    "## Short introduction to image processing with Python\n",
    "\n",
    "Help: use the function `help()` to get information on a Python objet. \n",
    "\n",
    "Images are stored as arrays that is the default type of the `numpy` module. Defaut type of array elements is `float64` according to the IEEE754 norm. Special float values are defined: infinity (`inf`) and undefined (`nan`, *not a number*), and some numerical constants, such as $\\pi$.\n",
    " \n"
   ]
  },
  {
   "cell_type": "code",
   "execution_count": null,
   "metadata": {},
   "outputs": [],
   "source": [
    "# import numpy\n",
    "import numpy as np\n",
    "\n",
    "# predefined constants\n",
    "print(np.inf,np.nan,np.pi)\n",
    "\n",
    "# some values\n",
    "print( 1., 1e10, -1.2e-3)\n"
   ]
  },
  {
   "cell_type": "markdown",
   "metadata": {},
   "source": [
    "### Creating an array: several ways.\n",
    "\n",
    "1. From a list of values (formally any Python iterable object). Elements of an array have the same **type**, determined by Numpy:"
   ]
  },
  {
   "cell_type": "code",
   "execution_count": null,
   "metadata": {},
   "outputs": [],
   "source": [
    "V = np.array([1,2,3])\n",
    "M = np.array([[1,2,3],[4,5,6.]])\n",
    "print (\"V is of type\",V.dtype)\n",
    "print (\"M is of type\",M.dtype)"
   ]
  },
  {
   "cell_type": "markdown",
   "metadata": {},
   "source": [
    "2. Without values: Numpy has constructors such as `empty()`, `zeros()`, `ones()`... Shape should be given (see below). Important: `empty()` does not initialize array elements."
   ]
  },
  {
   "cell_type": "code",
   "execution_count": null,
   "metadata": {},
   "outputs": [],
   "source": [
    "I = np.zeros((3,4))\n",
    "print(I)\n",
    "J = np.empty((4,3))\n",
    "print(J)"
   ]
  },
  {
   "cell_type": "markdown",
   "metadata": {},
   "source": [
    "3. From a sequence, prefer `arange()` from numpy to `range()` from python."
   ]
  },
  {
   "cell_type": "code",
   "execution_count": null,
   "metadata": {},
   "outputs": [],
   "source": [
    "print(np.arange(10))\n",
    "print(np.arange(0,10,2))\n",
    "print(np.arange(9,-1,-.5))"
   ]
  },
  {
   "cell_type": "markdown",
   "metadata": {},
   "source": [
    "### Shape of an array\n",
    "\n",
    "Shape decribes the number of elements for each dimension. A vector is of dimension 1, a matrix is of dimension 2. Superior dimensions are possible. Shape is not size that is the number of elements of an array. Type of shape is always a tuple of integers. With previous example: "
   ]
  },
  {
   "cell_type": "code",
   "execution_count": null,
   "metadata": {},
   "outputs": [],
   "source": [
    "print(I.shape, I.size)\n",
    "print(J.shape, J.size)\n",
    "print(V.shape, V.size)"
   ]
  },
  {
   "cell_type": "markdown",
   "metadata": {},
   "source": [
    "An important function/method is `reshape()` to change the shape of an array. Typical usage of `reshape()` is to transform a vector into a matrix or reciprocally. "
   ]
  },
  {
   "cell_type": "code",
   "execution_count": null,
   "metadata": {},
   "outputs": [],
   "source": [
    "K = np.arange(12).reshape((3,4))\n",
    "print(K)\n",
    "print(np.reshape(K,(12)))\n",
    "print(K.reshape((2,2,3)))"
   ]
  },
  {
   "cell_type": "markdown",
   "metadata": {},
   "source": [
    "### Elements of an array\n",
    "\n",
    "Access element by indices: two syntaxe are possible, the first given in the example is prefered. Negative index is possible with the same meanning of Python list."
   ]
  },
  {
   "cell_type": "code",
   "execution_count": null,
   "metadata": {},
   "outputs": [],
   "source": [
    "I = np.arange(12).reshape((3,4))\n",
    "print(I[1,2])\n",
    "print(I[0][0])\n",
    "print(I[-1,0])"
   ]
  },
  {
   "cell_type": "markdown",
   "metadata": {},
   "source": [
    "Access by group of indices using the operator `:` allows to extract subarray. General syntaxe is `start:end:step` and it is very powerfull:"
   ]
  },
  {
   "cell_type": "code",
   "execution_count": null,
   "metadata": {},
   "outputs": [],
   "source": [
    "print('extract the first line')\n",
    "print(I[0,:])\n",
    "print(I[0,0:])\n",
    "print(I[0,::])\n",
    "print(I[0,::1])\n",
    "\n",
    "print('extract center of the array')\n",
    "print(I[1:3,1:3])\n",
    "\n",
    "print('extract elements with even indices')\n",
    "print(I[::2,::2])\n",
    "\n",
    "print('print the horizontal mirror of an array')\n",
    "print(I[:,::-1])\n"
   ]
  },
  {
   "cell_type": "markdown",
   "metadata": {},
   "source": [
    "### Array arithmetic\n",
    "\n",
    "Operators and functions can be applied to arrays. Mostly, operations are element-wise (i.e. applied element by element). The consequence is arrays should have the same shape. One operand can also be scalar in most of time."
   ]
  },
  {
   "cell_type": "code",
   "execution_count": null,
   "metadata": {},
   "outputs": [],
   "source": [
    "A = np.arange(12).reshape((3,4))\n",
    "B = 2 * A + 1\n",
    "C = A + B\n",
    "D = np.cos(2*np.pi*A/12)\n",
    "\n",
    "print (D)\n",
    "print (D**2)\n",
    "print (D>0)"
   ]
  },
  {
   "cell_type": "markdown",
   "metadata": {},
   "source": [
    "Array may be viewed as matrix, we can make some linear algebraic manipulation. For example, `np.matmul()` is the matrix multiplication. It can be used to build matrix from vector. An example, using the transpose operator `T`. "
   ]
  },
  {
   "cell_type": "code",
   "execution_count": null,
   "metadata": {},
   "outputs": [],
   "source": [
    "L = np.arange(1,6).reshape((1,5))\n",
    "# transpose of L. Warning: C remains a reference to L\n",
    "C = L.T\n",
    "# This could be better if your want to touch L \n",
    "C = L.T.copy()\n",
    "\n",
    "print(\"A 5*5 matrix:\")\n",
    "print(np.matmul(C,L))\n",
    "\n",
    "print(\"A dot product, but result is a matrix:\")\n",
    "print(np.matmul(L,C))\n",
    "print(np.matmul(L,C)[0,0])\n",
    "\n",
    "print(\"dot() is prefered with vectors:\")\n",
    "V = np.arange(1,6)\n",
    "print(V.dot(V))\n",
    "print(np.dot(V,V))"
   ]
  },
  {
   "cell_type": "markdown",
   "metadata": {},
   "source": [
    "### Images\n",
    "\n",
    "We make use of PIL module (https://pillow.readthedocs.io/en/stable/reference/Image.html) to load and write an image and easily converted to Numpy array. Be careful: array type depends on image."
   ]
  },
  {
   "cell_type": "code",
   "execution_count": null,
   "metadata": {},
   "outputs": [],
   "source": [
    "from PIL import Image\n",
    "\n",
    "# reading an image and convert to array\n",
    "myimage = np.array(Image.open('img/moon.png'))\n",
    "\n",
    "# write an image (alternative format) from an array\n",
    "Image.fromarray(myimage).save('image.jpg')"
   ]
  },
  {
   "cell_type": "markdown",
   "metadata": {},
   "source": [
    "Array can be displayed as an image using Matplotlib module. Here a short example:"
   ]
  },
  {
   "cell_type": "code",
   "execution_count": null,
   "metadata": {},
   "outputs": [],
   "source": [
    "import matplotlib.pyplot as plt\n",
    "\n",
    "# minimal example:\n",
    "plt.imshow(myimage)\n",
    "plt.show()\n",
    "\n",
    "# with more controls:\n",
    "w,h=400,400\n",
    "plt.figure(figsize=(w/80,h/80))  # optional, to control the size of figure (unit: pixel)\n",
    "plt.gray() # optional call to display image using a gray colormap\n",
    "plt.title('This is an image') # optional: add a title\n",
    "plt.axis('off') # optional: remove axes\n",
    "plt.imshow(myimage)\n",
    "plt.show()\n"
   ]
  },
  {
   "cell_type": "markdown",
   "metadata": {},
   "source": [
    "See also:\n",
    "- https://matplotlib.org/3.1.1/tutorials/introductory/images.html\n",
    "- https://matplotlib.org/gallery/images_contours_and_fields/image_demo.html#sphx-glr-gallery-images-contours-and-fields-image-demo-py). "
   ]
  },
  {
   "cell_type": "markdown",
   "metadata": {},
   "source": [
    "## Exercice 1\n",
    "In this exercice, we work with image `img/moon.png`. If possible give two solutions : one with loops (for, while, ...) and one without loops. \n",
    "\n",
    "1. Write and test a function `openImage()` getting an image filename as argument and returning the array of pixel values."
   ]
  },
  {
   "cell_type": "code",
   "execution_count": null,
   "metadata": {},
   "outputs": [],
   "source": [
    "from PIL import Image\n",
    "import numpy as np\n",
    "\n",
    "def openImage(fname):\n",
    "    \"\"\" str -> Array \n",
    "    (notation above means the function gets a string argument and returns an Array object)\n",
    "    \"\"\"\n",
    "    return np.array(Image.open(fname))"
   ]
  },
  {
   "cell_type": "code",
   "execution_count": null,
   "metadata": {},
   "outputs": [],
   "source": [
    "#Test\n",
    "Moonimage = openImage('img/moon.png')\n",
    "print(Moonimage)\n",
    "plt.imshow(Moonimage)\n",
    "plt.show()"
   ]
  },
  {
   "cell_type": "markdown",
   "metadata": {},
   "source": [
    "2. Write and test a function `countPixels()` getting an array and an integer `k` as arguments and returning the number of pixels having the value `k`."
   ]
  },
  {
   "cell_type": "code",
   "execution_count": null,
   "metadata": {},
   "outputs": [],
   "source": [
    "def countPixels(I,k):\n",
    "    \"\"\" Array*int -> int\"\"\"\n",
    "    return np.where(I==k)[0].shape[0]"
   ]
  },
  {
   "cell_type": "code",
   "execution_count": null,
   "metadata": {},
   "outputs": [],
   "source": [
    "# TEST\n",
    "print(countPixels(Moonimage,1))"
   ]
  },
  {
   "cell_type": "code",
   "execution_count": null,
   "metadata": {},
   "outputs": [],
   "source": [
    "#Same fonction with a loop\n",
    "def countPixels(I, k) : \n",
    "    count = 0 \n",
    "    for i in range(I.shape[0]) : \n",
    "        for j in range(I.shape[1]):\n",
    "            count += 1 if I[i,j] == k else 0\n",
    "    return count\n",
    "print(countPixels(Moonimage,1))"
   ]
  },
  {
   "cell_type": "markdown",
   "metadata": {},
   "source": [
    "3. Write and test a function `replacePixels()` getting an array and two intergers and replacing pixels having `k1`value to `k2` value and returning the new array. Be aware to not modify `I`."
   ]
  },
  {
   "cell_type": "code",
   "execution_count": null,
   "metadata": {},
   "outputs": [],
   "source": [
    "def replacePixels(I,k1,k2):\n",
    "    \"\"\" Array*int*int -> Array \"\"\"\n",
    "    I2 = I.copy()\n",
    "    I2[I2 == k1] = k2\n",
    "    return I2"
   ]
  },
  {
   "cell_type": "code",
   "execution_count": null,
   "metadata": {},
   "outputs": [],
   "source": [
    "def replacePixels_loop(I, k1, k2) : \n",
    "    \"\"\" Array*int*int -> Array \"\"\"\n",
    "    I2 = I.copy()\n",
    "    for i in range(I.shape[0]) :\n",
    "        for j in range(I.shape[1]) : \n",
    "            I2[i,j] = k2 if I[i,j] == k1 else I[i,j]\n",
    "    return I2"
   ]
  },
  {
   "cell_type": "code",
   "execution_count": null,
   "metadata": {},
   "outputs": [],
   "source": [
    "# TEST\n",
    "re_moon = replacePixels(Moonimage,1,200)\n",
    "plt.imshow(Moonimage)\n",
    "plt.show()\n",
    "print(\"Apres remplacer les pixels\")\n",
    "plt.imshow(re_moon)\n",
    "plt.show()"
   ]
  },
  {
   "cell_type": "code",
   "execution_count": null,
   "metadata": {},
   "outputs": [],
   "source": [
    "#Verifier si les deux array sont equivalentes\n",
    "re_moon_loop = replacePixels_loop(Moonimage,1,200)\n",
    "print(\"Identical array ? : \", (re_moon_loop == re_moon).all())"
   ]
  },
  {
   "cell_type": "markdown",
   "metadata": {},
   "source": [
    "4. Write and test a function `normalizeImage()` getting an array and two integers `k1` and `k2` and returning an array with elements normalized to the interval $[k_1,k_2]$. "
   ]
  },
  {
   "cell_type": "code",
   "execution_count": null,
   "metadata": {},
   "outputs": [],
   "source": []
  },
  {
   "cell_type": "code",
   "execution_count": null,
   "metadata": {},
   "outputs": [],
   "source": [
    "def normalizeImage(I, k1, k2):\n",
    "    \"\"\"\n",
    "    Normalize the elements of the input array to the interval [k1, k2].\n",
    "    \"\"\"\n",
    "    I_min = I.min()\n",
    "    I_max = I.max()\n",
    "    I_scaled = np.round((I - I_min) / (I_max - I_min) * (k2 - k1) + k1).astype(np.uint8)\n",
    "    return I_scaled"
   ]
  },
  {
   "cell_type": "code",
   "execution_count": null,
   "metadata": {},
   "outputs": [],
   "source": [
    "def normalizeImage_loop(I, k1, k2):\n",
    "    \"\"\"\n",
    "    Normalize the elements of the input array to the interval [k1, k2].\n",
    "    \"\"\"\n",
    "    I_min = I.min()\n",
    "    I_max = I.max()\n",
    "\n",
    "    I_scaled = np.zeros_like(I)\n",
    "    for i in range(I.shape[0]):\n",
    "        for j in range(I.shape[1]):\n",
    "            I_scaled[i, j] = ((I[i, j] - I_min) / (I_max - I_min)) * (k2 - k1) + k1\n",
    "    return I_scaled"
   ]
  },
  {
   "cell_type": "code",
   "execution_count": null,
   "metadata": {},
   "outputs": [],
   "source": [
    "#TEST\n",
    "nor_moon = normalizeImage(myimage,100,255)\n",
    "print(nor_moon)\n",
    "plt.imshow(nor_moon,vmin=0,vmax=255)\n",
    "plt.show()"
   ]
  },
  {
   "cell_type": "code",
   "execution_count": null,
   "metadata": {},
   "outputs": [],
   "source": [
    "#TEST Loop\n",
    "nor_moon_loop = normalizeImage_loop(myimage,100,255)\n",
    "print(nor_moon_loop)\n",
    "plt.imshow(nor_moon_loop,vmin=0,vmax=255)\n",
    "plt.show()"
   ]
  },
  {
   "cell_type": "markdown",
   "metadata": {},
   "source": [
    "5. Write and test a function `inverteImage()` getting an array and returning and arry having inverted pixel values (i.e. the transform $k \\mapsto 255-k$"
   ]
  },
  {
   "cell_type": "code",
   "execution_count": null,
   "metadata": {},
   "outputs": [],
   "source": [
    "def inverteImage(I):\n",
    "    \"\"\" Array -> Array \"\"\"\n",
    "    I2 = I.copy()\n",
    "    return 255-I2"
   ]
  },
  {
   "cell_type": "code",
   "execution_count": null,
   "metadata": {},
   "outputs": [],
   "source": [
    "def inverteImage_loop(I):\n",
    "    \"\"\" Array -> Array \"\"\"\n",
    "    I2 = I.copy()\n",
    "    for i in range(I.shape[0]) : \n",
    "        for j in range(I.shape[1]) : \n",
    "            I2[i,j] = 255 - I[i,j]\n",
    "    return I2"
   ]
  },
  {
   "cell_type": "code",
   "execution_count": null,
   "metadata": {},
   "outputs": [],
   "source": [
    "#TEST\n",
    "inv_moon = inverteImage(Moonimage)\n",
    "print(inv_moon)\n",
    "plt.imshow(inv_moon)\n",
    "plt.show()"
   ]
  },
  {
   "cell_type": "code",
   "execution_count": null,
   "metadata": {},
   "outputs": [],
   "source": [
    "#TEST LOOP\n",
    "inv_moon_loop = inverteImage_loop(Moonimage)\n",
    "print(inv_moon_loop)\n",
    "plt.imshow(inv_moon_loop)\n",
    "plt.show()"
   ]
  },
  {
   "cell_type": "markdown",
   "metadata": {},
   "source": [
    "6. Write and test a function `computeHistogram()` getting an array and returning its histogram. Type of histogram can be an array or a list. It is forbidden to use an histogram method from a Python module. Is it possible to compute the histogram without explicitely visiting array pixels? "
   ]
  },
  {
   "cell_type": "code",
   "execution_count": null,
   "metadata": {},
   "outputs": [],
   "source": [
    "def computeHistogram(I):\n",
    "    \"\"\" numpy.ndarray -> list[int] \"\"\"\n",
    "    l = [0]*256\n",
    "    for i in range(I.shape[0]):\n",
    "        for j in range(I.shape[1]):\n",
    "            pixel = I[i, j]\n",
    "            l[pixel] += 1\n",
    "    return l\n",
    "\n"
   ]
  },
  {
   "cell_type": "markdown",
   "metadata": {},
   "source": [
    "It is not possible to compute the histogram without explicitly visiting array pixels, as the histogram is defined as a count of the number of occurrences of each pixel value in the array."
   ]
  },
  {
   "cell_type": "code",
   "execution_count": null,
   "metadata": {},
   "outputs": [],
   "source": [
    "# TEST\n",
    "hist = computeHistogram(myimage)\n",
    "print(hist)\n",
    "plt.bar(np.arange(0,256,1), hist, width = 5)\n",
    "plt.show()"
   ]
  },
  {
   "cell_type": "markdown",
   "metadata": {},
   "source": [
    "7. Write and test a function `thresholdImage()` getting an array `I` and an integer `s` and returning an array having elements set to 0 if corresponding element of `I` is lower than `s` or 255 otherwise."
   ]
  },
  {
   "cell_type": "code",
   "execution_count": null,
   "metadata": {},
   "outputs": [],
   "source": [
    "def thresholdImage(I,s):\n",
    "    \"\"\" Array*int -> Array \"\"\"\n",
    "    I2 = I.copy()\n",
    "    I2[I2 < s] = 0\n",
    "    I2[I2 != 0] = 255\n",
    "    return I2"
   ]
  },
  {
   "cell_type": "code",
   "execution_count": null,
   "metadata": {},
   "outputs": [],
   "source": [
    "def thresholdImage_loop(I,s):\n",
    "    \"\"\" Array*int -> Array \"\"\"\n",
    "    I2 = I.copy()\n",
    "    for i in range(I.shape[0]) : \n",
    "        for j in range(I.shape[1]) : \n",
    "            I2[i,j] = 0 if I[i,j] < s else 255\n",
    "    return I2"
   ]
  },
  {
   "cell_type": "code",
   "execution_count": null,
   "metadata": {},
   "outputs": [],
   "source": [
    "# TEST\n",
    "thr_moon = thresholdImage(myimage,200)\n",
    "print(thr_moon)\n",
    "plt.imshow(thr_moon)\n",
    "plt.show()"
   ]
  },
  {
   "cell_type": "code",
   "execution_count": null,
   "metadata": {},
   "outputs": [],
   "source": [
    "# TEST\n",
    "thr_moon_loop = thresholdImage_loop(myimage,200)\n",
    "print(thr_moon_loop)\n",
    "plt.imshow(thr_moon_loop)\n",
    "plt.show()"
   ]
  },
  {
   "cell_type": "markdown",
   "metadata": {},
   "source": [
    "8. Using previous functions, give a series of instructions to read then to display an image, plot the histogram (one can use `plot()` or `bar()` from `matplotlib.pyplot` module), inverse the image and display it, plot its histogram."
   ]
  },
  {
   "cell_type": "code",
   "execution_count": null,
   "metadata": {},
   "outputs": [],
   "source": [
    "import matplotlib.pyplot as plt\n",
    "\n",
    "## your code start below\n",
    "\n",
    "\n",
    "# read\n",
    "moonimage = openImage(\"img/moon.png\")\n",
    "\n",
    "# display\n",
    "plt.imshow(moonimage)\n",
    "plt.title(\"moon\")\n",
    "plt.show()\n",
    "\n",
    "# Compute and plot the histogram of the original image\n",
    "hist = computeHistogram(moonimage)\n",
    "plt.bar(np.arange(0,256,1), hist, width = 3)\n",
    "plt.title(\"histogram\")\n",
    "plt.show()\n",
    "\n",
    "# Invert the image\n",
    "inv_moon = inverteImage(moonimage)\n",
    "\n",
    "# Display the inverted image\n",
    "plt.imshow(inv_moon)\n",
    "plt.title(\"inverse moon\")\n",
    "plt.show()\n",
    "\n",
    "# Compute and plot the histogram of the inverted image\n",
    "hist = computeHistogram(inv_moon)\n",
    "plt.bar(np.arange(0,256,1), hist, width = 3)\n",
    "plt.title(\"inverse moon histogram\")\n",
    "plt.show()"
   ]
  },
  {
   "cell_type": "markdown",
   "metadata": {},
   "source": [
    "9. Give a series of instructions to read and display an image, plot the histogram, normalize the image to the interval $[10,50]$, compute the new histogram, display the image and the histogram. Remark: `imshow()` normalizes image. To avoid this and see the effect of the normalization, use `imshow()` with parameters `vmin=0,vmax=255`. Comment the results."
   ]
  },
  {
   "cell_type": "code",
   "execution_count": null,
   "metadata": {},
   "outputs": [],
   "source": [
    "# read\n",
    "moon = openImage(\"img/moon.png\")\n",
    "\n",
    "# display\n",
    "plt.imshow(moon)\n",
    "plt.title(\"Original Image : moon\")\n",
    "plt.show()\n",
    "\n",
    "# Compute and plot the histogram of the original image\n",
    "hist = computeHistogram(moon)\n",
    "plt.bar(np.arange(0,256,1), hist, width = 3)\n",
    "plt.title(\"Original Image Histogram\")\n",
    "plt.show()\n",
    "\n",
    "# Normalize the image to the interval [10, 50]\n",
    "nor_moon= normalizeImage(moon,10,50)\n",
    "\n",
    "# compute the normalisation histogram\n",
    "hist = computeHistogram(nor_moon)\n",
    "\n",
    "# Display the normalized image\n",
    "plt.imshow(nor_moon,vmin=0,vmax=255)\n",
    "plt.title(\"Normalized Image\")\n",
    "plt.show()\n",
    "\n",
    "plt.bar(np.arange(0,256,1), hist, width = 3)\n",
    "plt.title(\"Normalized Image Histogram\")\n",
    "plt.show()"
   ]
  },
  {
   "cell_type": "markdown",
   "metadata": {},
   "source": [
    "10. Same question than 9. remplacing the normalization by a thresholding with parameter $s=127$."
   ]
  },
  {
   "cell_type": "code",
   "execution_count": null,
   "metadata": {},
   "outputs": [],
   "source": [
    "# read\n",
    "moon = openImage(\"img/moon.png\")\n",
    "\n",
    "# display\n",
    "plt.imshow(moon)\n",
    "plt.title(\"Original Image\")\n",
    "plt.show()\n",
    "\n",
    "# Compute and plot the histogram of the original image\n",
    "hist = computeHistogram(moon)\n",
    "plt.bar(np.arange(0,256,1), hist, width = 3)\n",
    "plt.title(\"Original Image Histogram\")\n",
    "plt.show()\n",
    "\n",
    "# Threshold the image with parameter s=127\n",
    "thr_moon = thresholdImage(moon,127)\n",
    "\n",
    "# compute the normalisation histogram\n",
    "hist = computeHistogram(thr_moon)\n",
    "\n",
    "#display \n",
    "plt.imshow(thr_moon,vmin=0,vmax=255)\n",
    "plt.title(\"Thresholded Image\")\n",
    "plt.show()\n",
    "\n",
    "plt.bar(np.arange(0,256,1), hist, width = 3)\n",
    "plt.title(\"Thresholded Image Histogram\")\n",
    "plt.show()"
   ]
  },
  {
   "cell_type": "markdown",
   "metadata": {},
   "source": [
    "## Exercice 2 - generate images\n",
    "\n",
    "1. Create the array `I` 4 by 4 corresponding to the following image: <div> <img src=\"attachment:synthese.png\" width=\"150\"/> </div> Black pixels have value 0, white pixels value 255, and grey pixels value 127. Display the image using `imshow()` and plot the histogram."
   ]
  },
  {
   "cell_type": "code",
   "execution_count": null,
   "metadata": {},
   "outputs": [],
   "source": [
    "I = np.array([[127, 127, 0, 255],\n",
    "              [127, 0,   0, 255],\n",
    "              [0  , 127, 0, 255],\n",
    "              [127, 127, 0, 255]])\n",
    "plt.imshow(I)\n",
    "plt.show()\n",
    "\n",
    "hist = computeHistogram(I)\n",
    "plt.bar(np.arange(0,256,1), hist, width = 3)\n",
    "plt.show()"
   ]
  },
  {
   "cell_type": "markdown",
   "metadata": {},
   "source": [
    "2. We want to generate a matrix having random values. Functions `rand()` and `randn()` from  `numpy.matlib` module generate array of given shape with random values following respectively a uniform distribution on $[0,1[$ and a normal distribution. Create an array of shape 512 by 512 having **integer** elements following an uniform distribution in the set $\\{0,1,\\cdots,255\\}$ . We also want to create an array following a gaussian distribution with a mean of 128 and a standard deviation of 16 and with **integer** values.  Display the images and their histogramms. Discuss the results."
   ]
  },
  {
   "cell_type": "code",
   "execution_count": null,
   "metadata": {},
   "outputs": [],
   "source": [
    "# Create array with uniform distribution\n",
    "uniform_array = np.random.randint(0, 256, size=(512, 512))\n",
    "\n",
    "# Create array with Gaussian distribution\n",
    "gaussian_array = np.random.normal(loc=128, scale=16, size=(512, 512)).astype(int)\n",
    "\n",
    "# Display images\n",
    "fig, axs = plt.subplots(1, 2, figsize=(10, 5))\n",
    "\n",
    "axs[0].imshow(uniform_array, cmap='gray')\n",
    "axs[0].set_title('Uniform Distribution')\n",
    "\n",
    "axs[1].imshow(gaussian_array, cmap='gray')\n",
    "axs[1].set_title('Gaussian Distribution')\n",
    "\n",
    "# Display histograms\n",
    "fig, axs = plt.subplots(1, 2, figsize=(10, 5))\n",
    "\n",
    "axs[0].hist(uniform_array.ravel(), bins=256, range=(0, 256))\n",
    "axs[0].set_title('Uniform Distribution Histogram')\n",
    "\n",
    "axs[1].hist(gaussian_array.ravel(), bins=256, range=(0, 256))\n",
    "axs[1].set_title('Gaussian Distribution Histogram')\n",
    "\n",
    "plt.show()\n",
    "\n"
   ]
  },
  {
   "cell_type": "markdown",
   "metadata": {},
   "source": [
    "## Exercice 3: image manipulation\n",
    "In this exercice, we work with image `img/pout.png`. "
   ]
  },
  {
   "cell_type": "markdown",
   "metadata": {},
   "source": [
    "1. Read and display this image"
   ]
  },
  {
   "cell_type": "code",
   "execution_count": null,
   "metadata": {},
   "outputs": [],
   "source": [
    "# read\n",
    "pout = openImage(\"img/pout.png\")\n",
    "\n",
    "# display\n",
    "plt.imshow(pout)\n",
    "plt.title(\"pout\")\n",
    "plt.show()\n"
   ]
  },
  {
   "cell_type": "markdown",
   "metadata": {},
   "source": [
    "2. Examine the histogram. Determine the extrema of the image. What can you say about the quality of this image?"
   ]
  },
  {
   "cell_type": "code",
   "execution_count": null,
   "metadata": {},
   "outputs": [],
   "source": [
    "# histogram\n",
    "hist = computeHistogram(pout)\n",
    "plt.bar(np.arange(0,256,1), hist, width = 3)\n",
    "plt.title(\"histogram\")\n",
    "plt.show()\n",
    "print(\"Extrema of the image:\", pout.min() , pout.max())"
   ]
  },
  {
   "cell_type": "markdown",
   "metadata": {},
   "source": [
    "<tt> the minimum pixel value in the image is 74 and the maximum pixel value is 224.\n",
    "\n",
    "The fact that the minimum and maximum values are not close to 0 or 255 suggests that the image has moderate contrast and is not underexposed or overexposed. </tt>"
   ]
  },
  {
   "cell_type": "markdown",
   "metadata": {},
   "source": [
    "3. Using functions from Exercice 1, write the function `histogramEqualization()` getting one image, its histogram,  applying an histogram equalization and returning the new image. Test this function on `pout.png` and discuss the result."
   ]
  },
  {
   "cell_type": "code",
   "execution_count": null,
   "metadata": {},
   "outputs": [],
   "source": [
    "def histogramEqualization(image, histogram):\n",
    "    cdf = np.cumsum(histogram)\n",
    "    cdf_normalized = cdf / cdf[-1]\n",
    "    equalized_image = np.interp(image, range(256), cdf_normalized * 255).astype(int)\n",
    "    return equalized_image\n",
    "\n",
    "plt.imshow(histogramEqualization(pout, computeHistogram(pout)))\n",
    "plt.show()\n",
    "\n"
   ]
  },
  {
   "cell_type": "code",
   "execution_count": null,
   "metadata": {},
   "outputs": [],
   "source": [
    "#loop version\n",
    "def histogramEqualization_loop(image, hist):\n",
    "    N = image.shape[0]\n",
    "    M = image.shape[1]\n",
    "    hist = np.array(hist )/(N*M)\n",
    "    sum_hist = np.zeros(hist.shape)\n",
    "    for i in range(256):\n",
    "        sum_hist[i] = sum(hist[0:i+1])\n",
    "    equal_hist = np.zeros(sum_hist.shape)\n",
    "    for i in range(256):\n",
    "        equal_hist[i] = int(((255 - 1) - 0) * sum_hist[i] + 0.5)\n",
    "    equalized_image = np.interp(image, range(256), equal_hist).astype(int)\n",
    "    return equalized_image\n"
   ]
  },
  {
   "cell_type": "code",
   "execution_count": null,
   "metadata": {},
   "outputs": [],
   "source": [
    "plt.imshow(histogramEqualization_loop(pout, computeHistogram(pout)))"
   ]
  }
 ],
 "metadata": {
  "kernelspec": {
   "display_name": "Python 3 (ipykernel)",
   "language": "python",
   "name": "python3"
  },
  "language_info": {
   "codemirror_mode": {
    "name": "ipython",
    "version": 3
   },
   "file_extension": ".py",
   "mimetype": "text/x-python",
   "name": "python",
   "nbconvert_exporter": "python",
   "pygments_lexer": "ipython3",
   "version": "3.11.4"
  }
 },
 "nbformat": 4,
 "nbformat_minor": 2
}
